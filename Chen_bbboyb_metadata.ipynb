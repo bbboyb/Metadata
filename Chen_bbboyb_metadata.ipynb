{
 "cells": [
  {
   "cell_type": "markdown",
   "metadata": {},
   "source": [
    "# Gestión y uso de Metadatos"
   ]
  },
  {
   "cell_type": "markdown",
   "metadata": {},
   "source": [
    "## Librerías Necesarias"
   ]
  },
  {
   "cell_type": "markdown",
   "metadata": {},
   "source": [
    "xml.etree.ElementTree\n",
    "\n",
    "requests"
   ]
  },
  {
   "cell_type": "code",
   "execution_count": 4,
   "metadata": {},
   "outputs": [],
   "source": [
    "import xml.etree.ElementTree as ET\n",
    "import requests"
   ]
  },
  {
   "cell_type": "markdown",
   "metadata": {},
   "source": [
    "## Metadata attachment"
   ]
  },
  {
   "cell_type": "markdown",
   "metadata": {},
   "source": [
    "En este Notebook descubriremos cómo pueden explotarse metadatos publicados en formatos basados en etiquetas, como XML."
   ]
  },
  {
   "cell_type": "markdown",
   "metadata": {},
   "source": [
    "<img src=\"https://www.republica.com/wp-content/uploads/2017/04/grito.jpg \" width=\"250\">"
   ]
  },
  {
   "cell_type": "markdown",
   "metadata": {},
   "source": [
    "Vamos a empezar por describir un par de objetos, empezando por un cuadro, \"El grito\", de  Edvard Munch.\n",
    "\n",
    "* Title: \n",
    "* Creator: \n",
    "* Subject:  \n",
    "* Description: \n",
    "* Publisher: \n",
    "* Contributor:\n",
    "* Date: \n",
    "* Type: \n",
    "* Format: \n",
    "* Identifier: \n",
    "* Source: \n",
    "* Language:\n",
    "* Relation:\n",
    "* Coverage:  \n",
    "* Rights:"
   ]
  },
  {
   "cell_type": "markdown",
   "metadata": {},
   "source": [
    "Con Dublin Core también podemos describir datasets científicos. Vamos a probar con:\n",
    "\n",
    "https://zenodo.org/record/3372754#.XcFkhE9Kg5k\n",
    "\n",
    "<div class=\"alert alert-warning\" role=\"alert\" style=\"margin: 10px\">\n",
    "<p>**Consejo**</p>\n",
    "\n",
    "<p>En el propio repositorio puedes encontrar metadatos</p>\n",
    "</div>\n",
    "\n",
    "* Title: \n",
    "* Creator: \n",
    "* Subject:  \n",
    "* Description: \n",
    "* Publisher: \n",
    "* Contributor:\n",
    "* Date: \n",
    "* Type: \n",
    "* Format: \n",
    "* Identifier: \n",
    "* Source: \n",
    "* Language:\n",
    "* Relation:\n",
    "* Coverage:  \n",
    "* Rights:"
   ]
  },
  {
   "cell_type": "markdown",
   "metadata": {},
   "source": [
    "A partir de las descripciones, podemos crear documentos XML que sean interpretables por máquinas (entendiendo máquinas como scripts, software, etc). \n",
    "\n",
    "El grito:\n",
    "  \n",
    "  ```XML\n",
    " <dc:contributor></dc:contributor>\n",
    "  <dc:coverage></dc:coverage>\n",
    "  <dc:creator></dc:creator>\n",
    "  <dc:date></dc:date>\n",
    "  <dc:description></dc:description>\n",
    "  <dc:format></dc:format>\n",
    "  <dc:identifier></dc:identifier>\n",
    "  <dc:language></dc:language>\n",
    "  <dc:publisher></dc:publisher>\n",
    "  <dc:relation></dc:relation>\n",
    "  <dc:rights></dc:rights>\n",
    "  <dc:source></dc:source>\n",
    "  <dc:title></dc:title>\n",
    "  <dc:type></dc:type>\n",
    "```\n",
    "\n",
    "Dataset:\n",
    "  ```XML\n",
    " <dc:contributor> </dc:contributor>\n",
    "  <dc:coverage> </dc:coverage>\n",
    "  <dc:creator></dc:creator>\n",
    "  <dc:date></dc:date>\n",
    "  <dc:subject></dc:subject>\n",
    "  <dc:description></dc:description>\n",
    "  <dc:format>  </dc:format>\n",
    "  <dc:identifier></dc:identifier>\n",
    "  <dc:language> </dc:language>\n",
    "  <dc:publisher></dc:publisher>\n",
    "  <dc:relation> </dc:relation>\n",
    "  <dc:rights> </dc:rights>\n",
    "  <dc:source> </dc:source>\n",
    "  <dc:title></dc:title>\n",
    "  <dc:type></dc:type>\n",
    "```"
   ]
  },
  {
   "cell_type": "markdown",
   "metadata": {},
   "source": [
    "Ahora vamos a ver cómo podemos manejar estos datos en Python. Para ello, utilizaremos la librería xml.\n",
    "\n",
    "Para crear un documento XML bien formado, es necesario definir dónde está descrito el prefijo Dublin Core o \"dc:\". Para ello, añadimos antes de los datos la siguiente cabecera:\n",
    "\n",
    "```XML\n",
    "<?xml version=\"1.0\" encoding=\"UTF-8\" standalone=\"no\"?><?xml-stylesheet type=\"text/xsl\" href=\"/webservices/catalog/xsl/searchRetrieveResponse.xsl\"?>\n",
    "<searchRetrieveResponse xmlns:oclcterms=\"http://purl.org/oclc/terms/\" xmlns:dc=\"http://purl.org/dc/elements/1.1/\" xmlns:diag=\"http://www.loc.gov/zing/srw/diagnostic/\" xmlns:xsi=\"http://www.w3.org/2001/XMLSchema-instance\">\n",
    "```\n",
    "\n",
    "Sin olvidar añadir al final:\n",
    "\n",
    "```XML\n",
    "</searchRetrieveResponse>\n",
    "```"
   ]
  },
  {
   "cell_type": "code",
   "execution_count": 2,
   "metadata": {},
   "outputs": [
    {
     "data": {
      "text/plain": [
       "<Element 'searchRetrieveResponse' at 0x000001E9AC0402C0>"
      ]
     },
     "execution_count": 2,
     "metadata": {},
     "output_type": "execute_result"
    }
   ],
   "source": [
    "import xml.etree.ElementTree as ET\n",
    "dc_xml = '''<?xml version=\"1.0\" encoding=\"UTF-8\" standalone=\"no\"?><?xml-stylesheet type=\"text/xsl\" href=\"/webservices/catalog/xsl/searchRetrieveResponse.xsl\"?>\n",
    "<searchRetrieveResponse xmlns:oclcterms=\"http://purl.org/oclc/terms/\" xmlns:dc=\"http://purl.org/dc/elements/1.1/\" xmlns:diag=\"http://www.loc.gov/zing/srw/diagnostic/\" xmlns:xsi=\"http://www.w3.org/2001/XMLSchema-instance\">\n",
    "\n",
    "\n",
    "     <dc:contributor>Edvard Munch </dc:contributor>\n",
    "  <dc:coverage>Lugar indeterminado</dc:coverage>\n",
    "  <dc:creator>Edvard Munch </dc:creator>\n",
    "  <dc:date>1910</dc:date>\n",
    "  <dc:description>Cuadro...</dc:description>\n",
    "  <dc:format>Oleo sobre carton</dc:format>\n",
    "  <dc:identifier>id_museo_grito</dc:identifier>\n",
    "  <dc:language></dc:language>\n",
    "  <dc:publisher>Galeria nacional de Oslo</dc:publisher>\n",
    "  <dc:relation>cuadro1, cuadro2, cuadro3</dc:relation>\n",
    "  <dc:rights>Acceso al museo</dc:rights>\n",
    "  <dc:source></dc:source>\n",
    "  <dc:title>El grito</dc:title>\n",
    "  <dc:type>Cuadro</dc:type>\n",
    "\n",
    "\n",
    "\n",
    "</searchRetrieveResponse>'''\n",
    "\n",
    "tree = ET.fromstring(dc_xml)\n",
    "tree"
   ]
  },
  {
   "cell_type": "markdown",
   "metadata": {},
   "source": [
    "Si queremos recorrer los elementos del XML que hemos formado, podemos utilizar un bucle, teniendo en cuenta que la información que nos interesa la tenemos en el elemento raíz 'searchRetrieveResponse':"
   ]
  },
  {
   "cell_type": "code",
   "execution_count": 6,
   "metadata": {},
   "outputs": [
    {
     "name": "stdout",
     "output_type": "stream",
     "text": [
      "{http://purl.org/dc/elements/1.1/}contributor Edvard Munch \n",
      "{http://purl.org/dc/elements/1.1/}coverage Lugar indeterminado\n",
      "{http://purl.org/dc/elements/1.1/}creator Edvard Munch \n",
      "{http://purl.org/dc/elements/1.1/}date 1910\n",
      "{http://purl.org/dc/elements/1.1/}description Cuadro...\n",
      "{http://purl.org/dc/elements/1.1/}format Oleo sobre carton\n",
      "{http://purl.org/dc/elements/1.1/}identifier id_museo_grito\n",
      "{http://purl.org/dc/elements/1.1/}language None\n",
      "{http://purl.org/dc/elements/1.1/}publisher Galeria nacional de Oslo\n",
      "{http://purl.org/dc/elements/1.1/}relation cuadro1, cuadro2, cuadro3\n",
      "{http://purl.org/dc/elements/1.1/}rights Acceso al museo\n",
      "{http://purl.org/dc/elements/1.1/}source None\n",
      "{http://purl.org/dc/elements/1.1/}title El grito\n",
      "{http://purl.org/dc/elements/1.1/}type Cuadro\n"
     ]
    }
   ],
   "source": [
    "for table in tree.iter('searchRetrieveResponse'):\n",
    "    for child in table:\n",
    "        print(child.tag, child.text)"
   ]
  },
  {
   "cell_type": "markdown",
   "metadata": {},
   "source": [
    "Observa que, al utilizar el prefijo 'dc:' e indicarle que está descrito en la URL 'http://purl.org/dc/elements/1.1/', la eqtiqueta o \"tag\" aparece como, por ejemplo {URL}contributor.\n",
    "\n",
    "Prueba a mostrar los metadatos que has creado a partir del cuadro y del dataset:"
   ]
  },
  {
   "cell_type": "code",
   "execution_count": 7,
   "metadata": {},
   "outputs": [
    {
     "name": "stdout",
     "output_type": "stream",
     "text": [
      "Edvard Munch \n",
      "Lugar indeterminado\n",
      "Edvard Munch \n",
      "1910\n",
      "Cuadro...\n",
      "Oleo sobre carton\n",
      "id_museo_grito\n",
      "None\n",
      "Galeria nacional de Oslo\n",
      "cuadro1, cuadro2, cuadro3\n",
      "Acceso al museo\n",
      "None\n",
      "El grito\n",
      "Cuadro\n"
     ]
    }
   ],
   "source": [
    "for table in tree.iter('searchRetrieveResponse'):\n",
    "    for child in table:\n",
    "        print(child.text)"
   ]
  },
  {
   "cell_type": "markdown",
   "metadata": {},
   "source": [
    "Utilizando findall() sobre el arbol (tree), podemos encontrar todos los elementos con una etiqueta determinada."
   ]
  },
  {
   "cell_type": "code",
   "execution_count": 8,
   "metadata": {},
   "outputs": [
    {
     "name": "stdout",
     "output_type": "stream",
     "text": [
      "[<Element '{http://purl.org/dc/elements/1.1/}relation' at 0x000001E9AC041DA0>]\n"
     ]
    }
   ],
   "source": [
    "relation = tree.findall('{http://purl.org/dc/elements/1.1/}relation')\n",
    "print(relation)"
   ]
  },
  {
   "cell_type": "markdown",
   "metadata": {},
   "source": [
    "Ten en cuenta que lo que encontramos es, en realidad, una parte del documento XML, por lo que hay que iterarlo como antes:"
   ]
  },
  {
   "cell_type": "code",
   "execution_count": 6,
   "metadata": {},
   "outputs": [
    {
     "name": "stdout",
     "output_type": "stream",
     "text": [
      "{http://purl.org/dc/elements/1.1/}relation cuadro1, cuadro2, cuadro3\n"
     ]
    }
   ],
   "source": [
    "for child in relation:\n",
    "    print(child.tag, child.text)"
   ]
  },
  {
   "cell_type": "markdown",
   "metadata": {},
   "source": [
    "XML utiliza prefijos para no necesitar referenciar a la URL de un tipo cada vez, lo podemos ver en la cabecera:\n",
    "\n",
    "```XML\n",
    "<?xml version=\"1.0\" encoding=\"UTF-8\" standalone=\"no\"?><?xml-stylesheet type=\"text/xsl\" href=\"/webservices/catalog/xsl/searchRetrieveResponse.xsl\"?>\n",
    "<searchRetrieveResponse xmlns:oclcterms=\"http://purl.org/oclc/terms/\" xmlns:dc=\"http://purl.org/dc/elements/1.1/\" xmlns:diag=\"http://www.loc.gov/zing/srw/diagnostic/\" xmlns:xsi=\"http://www.w3.org/2001/XMLSchema-instance\">'''\n",
    "```\n",
    "\n",
    "Por ejemplo, cada vez que queremos utilizar un tipo de Dublin Core, utilizamos el prefijo dc: que equivale a llamar a la definición:\n",
    "\n",
    "xmlns:dc=\"http://purl.org/dc/elements/1.1/\"\n",
    "\n",
    "Sin embargo, para utilizar ElementTree en Python, tenemos que utilizar la URL completa. Esto puede resultar un poco engorroso, así que podemos definir el namespace para utilizar también el prefijo:"
   ]
  },
  {
   "cell_type": "code",
   "execution_count": 12,
   "metadata": {},
   "outputs": [
    {
     "data": {
      "text/plain": [
       "'Acceso al museo'"
      ]
     },
     "execution_count": 12,
     "metadata": {},
     "output_type": "execute_result"
    }
   ],
   "source": [
    "namespaces = {'dc': 'http://purl.org/dc/elements/1.1/'} # add more as needed\n",
    "\n",
    "tree.find('dc:rights',namespaces).text"
   ]
  },
  {
   "cell_type": "markdown",
   "metadata": {},
   "source": [
    "Los documentos XML, aparte de las etiquetas y los valores, pueden contener atributos. Dado el siguiente ejemplo, vamos a ver cómo obtener la lista y los valores de los atributos"
   ]
  },
  {
   "cell_type": "code",
   "execution_count": 34,
   "metadata": {},
   "outputs": [],
   "source": [
    "dc_xml = '''<?xml version=\"1.0\" encoding=\"UTF-8\" standalone=\"no\"?><?xml-stylesheet type=\"text/xsl\" href=\"/webservices/catalog/xsl/searchRetrieveResponse.xsl\"?>\n",
    "<searchRetrieveResponse xmlns:oclcterms=\"http://purl.org/oclc/terms/\" xmlns:dc=\"http://purl.org/dc/elements/1.1/\" xmlns:diag=\"http://www.loc.gov/zing/srw/diagnostic/\" xmlns:xsi=\"http://www.w3.org/2001/XMLSchema-instance\">\n",
    "<dc:contributor>asdsadsad</dc:contributor>\n",
    "<dc:coverage>dfsd</dc:coverage>\n",
    "<dc:creator>sadsa</dc:creator>\n",
    "<dc:date>sadas</dc:date>\n",
    "<dc:description atributo1=\"valor1\" atributo2=\"valor2\">sadsa</dc:description>\n",
    "<dc:format>sadasd</dc:format>\n",
    "<dc:identifier>sadsad</dc:identifier>\n",
    "<dc:language>asdasd</dc:language>\n",
    "<dc:publisher>wqewq</dc:publisher>\n",
    "<dc:relation >wqeqw</dc:relation>\n",
    "<dc:rights>ffefe</dc:rights>\n",
    "<dc:source>vfvf</dc:source>\n",
    "<dc:title>wqewqe</dc:title>\n",
    "<dc:type>ewfrb</dc:type>\n",
    "</searchRetrieveResponse>'''\n",
    "\n",
    "tree2 = ET.fromstring(dc_xml)"
   ]
  },
  {
   "cell_type": "code",
   "execution_count": 37,
   "metadata": {},
   "outputs": [
    {
     "data": {
      "text/plain": [
       "{'atributo1': 'valor1', 'atributo2': 'valor2'}"
      ]
     },
     "execution_count": 37,
     "metadata": {},
     "output_type": "execute_result"
    }
   ],
   "source": [
    "tree2.find('dc:description',namespaces).attrib"
   ]
  },
  {
   "cell_type": "markdown",
   "metadata": {},
   "source": [
    "Conociendo los nombres de estos atributos, puedes extraer su valor. Esto serviría para dar una información adicional al contenido de la etiqueta. Por ejemplo, se podría añadir el idioma como atributo en la descripción."
   ]
  },
  {
   "cell_type": "code",
   "execution_count": 19,
   "metadata": {},
   "outputs": [
    {
     "name": "stdout",
     "output_type": "stream",
     "text": [
      "valor1\n",
      "valor2\n"
     ]
    }
   ],
   "source": [
    "print(tree2.find('dc:description',namespaces).attrib['atributo1'])\n",
    "print(tree2.find('dc:description',namespaces).attrib['atributo2'])\n"
   ]
  },
  {
   "cell_type": "markdown",
   "metadata": {},
   "source": [
    "Vamos a analizar un documento XML más complejo, empezando por descargarlo:"
   ]
  },
  {
   "cell_type": "code",
   "execution_count": null,
   "metadata": {},
   "outputs": [],
   "source": [
    "import requests\n",
    "\n",
    "response = requests.get('https://gist.githubusercontent.com/vivien/580729/raw/651d1b216357c0d7d9fc47075071fb482e11fb36/dublincore-example.xml')\n",
    "if response.status_code == 200:\n",
    "    with open(\"./dublincore-example.xml\", 'wb') as f:\n",
    "        f.write(response.content)"
   ]
  },
  {
   "cell_type": "markdown",
   "metadata": {},
   "source": [
    "<div class=\"alert alert-warning\" role=\"alert\" style=\"margin: 10px\">\n",
    "<p>**Recuerda!**</p>\n",
    "\n",
    "<p>Jupyter permite ejecutar ciertos comandos bash</p>\n",
    "</div>"
   ]
  },
  {
   "cell_type": "code",
   "execution_count": null,
   "metadata": {},
   "outputs": [],
   "source": [
    "ls"
   ]
  },
  {
   "cell_type": "markdown",
   "metadata": {},
   "source": [
    "Y lo cargamos en python:"
   ]
  },
  {
   "cell_type": "code",
   "execution_count": null,
   "metadata": {},
   "outputs": [],
   "source": [
    "tree = ET.parse('dublincore-example.xml')\n",
    "namespaces = {'dc': 'http://purl.org/dc/elements/1.1/'} # add more as needed\n",
    "for table in tree.iter('{http://www.loc.gov/zing/srw/}searchRetrieveResponse'):\n",
    "    for child in table:\n",
    "        print(child.tag, child.text)"
   ]
  },
  {
   "cell_type": "code",
   "execution_count": null,
   "metadata": {},
   "outputs": [],
   "source": [
    "all_records = tree.findall('{http://www.loc.gov/zing/srw/}records')\n",
    "print(all_records)"
   ]
  },
  {
   "cell_type": "code",
   "execution_count": null,
   "metadata": {},
   "outputs": [],
   "source": [
    "for table in tree.iter('{http://www.loc.gov/zing/srw/}record'):\n",
    "    for child in table:\n",
    "        print(child.tag, child.text)"
   ]
  },
  {
   "cell_type": "code",
   "execution_count": null,
   "metadata": {},
   "outputs": [],
   "source": [
    "for table in tree.iter('{http://www.loc.gov/zing/srw/}recordData'):\n",
    "    for child in table:\n",
    "        print(child.tag, child.text)"
   ]
  },
  {
   "cell_type": "code",
   "execution_count": null,
   "metadata": {},
   "outputs": [],
   "source": [
    "for table in tree.iter('{http://www.loc.gov/zing/srw/}oclcdcs'):\n",
    "    for child in table:\n",
    "        print(child.tag, child.text)"
   ]
  },
  {
   "cell_type": "code",
   "execution_count": null,
   "metadata": {},
   "outputs": [],
   "source": [
    "table = tree.findall('//{http://purl.org/dc/elements/1.1/}identifier')\n",
    "for child in table:\n",
    "    print(child.tag, child.text)"
   ]
  },
  {
   "cell_type": "code",
   "execution_count": null,
   "metadata": {},
   "outputs": [],
   "source": [
    "relation = tree.findall('//{http://purl.org/dc/elements/1.1/}identifier')\n",
    "for elem in relation:\n",
    "    print(elem.tag, elem.text)"
   ]
  },
  {
   "cell_type": "markdown",
   "metadata": {},
   "source": [
    "## XPATH"
   ]
  },
  {
   "cell_type": "markdown",
   "metadata": {},
   "source": [
    "XPath es un lenguaje que permite construir expresiones que recorren y procesan un documento XML. La idea es parecida a las expresiones regulares para seleccionar partes de un texto sin atributos. XPath permite buscar y seleccionar teniendo en cuenta la estructura jerárquica del XML"
   ]
  },
  {
   "cell_type": "markdown",
   "metadata": {},
   "source": [
    "<table border=\"1\" class=\"docutils\">\n",
    "<colgroup>\n",
    "<col width=\"30%\">\n",
    "<col width=\"70%\">\n",
    "</colgroup>\n",
    "<thead valign=\"bottom\">\n",
    "<tr class=\"row-odd\"><th class=\"head\">Syntax</th>\n",
    "<th class=\"head\">Meaning</th>\n",
    "</tr>\n",
    "</thead>\n",
    "<tbody valign=\"top\">\n",
    "<tr class=\"row-even\"><td><code class=\"docutils literal notranslate\"><span class=\"pre\">tag</span></code></td>\n",
    "<td>Selects all child elements with the given tag.\n",
    "For example, <code class=\"docutils literal notranslate\"><span class=\"pre\">spam</span></code> selects all child elements\n",
    "named <code class=\"docutils literal notranslate\"><span class=\"pre\">spam</span></code>, and <code class=\"docutils literal notranslate\"><span class=\"pre\">spam/egg</span></code> selects all\n",
    "grandchildren named <code class=\"docutils literal notranslate\"><span class=\"pre\">egg</span></code> in all children named\n",
    "<code class=\"docutils literal notranslate\"><span class=\"pre\">spam</span></code>.</td>\n",
    "</tr>\n",
    "<tr class=\"row-odd\"><td><code class=\"docutils literal notranslate\"><span class=\"pre\">*</span></code></td>\n",
    "<td>Selects all child elements.  For example, <code class=\"docutils literal notranslate\"><span class=\"pre\">*/egg</span></code>\n",
    "selects all grandchildren named <code class=\"docutils literal notranslate\"><span class=\"pre\">egg</span></code>.</td>\n",
    "</tr>\n",
    "<tr class=\"row-even\"><td><code class=\"docutils literal notranslate\"><span class=\"pre\">.</span></code></td>\n",
    "<td>Selects the current node.  This is mostly useful\n",
    "at the beginning of the path, to indicate that it’s\n",
    "a relative path.</td>\n",
    "</tr>\n",
    "<tr class=\"row-odd\"><td><code class=\"docutils literal notranslate\"><span class=\"pre\">//</span></code></td>\n",
    "<td>Selects all subelements, on all levels beneath the\n",
    "current  element.  For example, <code class=\"docutils literal notranslate\"><span class=\"pre\">.//egg</span></code> selects\n",
    "all <code class=\"docutils literal notranslate\"><span class=\"pre\">egg</span></code> elements in the entire tree.</td>\n",
    "</tr>\n",
    "<tr class=\"row-even\"><td><code class=\"docutils literal notranslate\"><span class=\"pre\">..</span></code></td>\n",
    "<td>Selects the parent element.</td>\n",
    "</tr>\n",
    "<tr class=\"row-odd\"><td><code class=\"docutils literal notranslate\"><span class=\"pre\">[@attrib]</span></code></td>\n",
    "<td>Selects all elements that have the given attribute.</td>\n",
    "</tr>\n",
    "<tr class=\"row-even\"><td><code class=\"docutils literal notranslate\"><span class=\"pre\">[@attrib='value']</span></code></td>\n",
    "<td>Selects all elements for which the given attribute\n",
    "has the given value.  The value cannot contain\n",
    "quotes.</td>\n",
    "</tr>\n",
    "<tr class=\"row-odd\"><td><code class=\"docutils literal notranslate\"><span class=\"pre\">[tag]</span></code></td>\n",
    "<td>Selects all elements that have a child named\n",
    "<code class=\"docutils literal notranslate\"><span class=\"pre\">tag</span></code>.  Only immediate children are supported.</td>\n",
    "</tr>\n",
    "<tr class=\"row-even\"><td><code class=\"docutils literal notranslate\"><span class=\"pre\">[tag='text']</span></code></td>\n",
    "<td>Selects all elements that have a child named\n",
    "<code class=\"docutils literal notranslate\"><span class=\"pre\">tag</span></code> whose complete text content, including\n",
    "descendants, equals the given <code class=\"docutils literal notranslate\"><span class=\"pre\">text</span></code>.</td>\n",
    "</tr>\n",
    "<tr class=\"row-odd\"><td><code class=\"docutils literal notranslate\"><span class=\"pre\">[position]</span></code></td>\n",
    "<td>Selects all elements that are located at the given\n",
    "position.  The position can be either an integer\n",
    "(1 is the first position), the expression <code class=\"docutils literal notranslate\"><span class=\"pre\">last()</span></code>\n",
    "(for the last position), or a position relative to\n",
    "the last position (e.g. <code class=\"docutils literal notranslate\"><span class=\"pre\">last()-1</span></code>).</td>\n",
    "</tr>\n",
    "</tbody>\n",
    "</table>"
   ]
  },
  {
   "cell_type": "markdown",
   "metadata": {},
   "source": [
    "Como ves, hay que ir entendiendo la jerarquía del XML para poder obtener la información. \n",
    "\n",
    "¿Puedes obtener los títulos de los recursos descritos en el XML?"
   ]
  },
  {
   "cell_type": "markdown",
   "metadata": {},
   "source": [
    "<div class=\"alert alert-warning\" role=\"alert\" style=\"margin: 10px\">\n",
    "<p>**Ayuda**</p>\n",
    "\n",
    "<p>'//' para indicar que empiece a buscar desde el elemento actual desde el que parte el arbol + tipo+nombre del elemento a buscar ({http://purl.org/dc/elements/1.1/} title)</p>\n",
    "</div>"
   ]
  },
  {
   "cell_type": "code",
   "execution_count": null,
   "metadata": {},
   "outputs": [],
   "source": [
    "relation = tree.findall('.//{http://purl.org/dc/elements/1.1/}title')\n",
    "for elem in relation:\n",
    "    print(elem.tag, elem.text)"
   ]
  },
  {
   "cell_type": "markdown",
   "metadata": {},
   "source": [
    "Haz lo mismo utilizando namespace"
   ]
  },
  {
   "cell_type": "code",
   "execution_count": null,
   "metadata": {},
   "outputs": [],
   "source": [
    "namespaces = {'dc': 'http://purl.org/dc/elements/1.1/'} # add more as needed\n",
    "relation = tree.findall('.//dc:title',namespaces)\n",
    "for elem in relation:\n",
    "    print(elem.tag, elem.text)"
   ]
  },
  {
   "cell_type": "markdown",
   "metadata": {},
   "source": [
    "## Ejemplo con EML"
   ]
  },
  {
   "cell_type": "code",
   "execution_count": 63,
   "metadata": {},
   "outputs": [],
   "source": [
    "import requests\n",
    "\n",
    "response = requests.get('https://zenodo.org/record/841691/files/amt_prototype.xml')\n",
    "if response.status_code == 200:\n",
    "    with open(\"./amt_prototype.xml\", 'wb') as f:\n",
    "        f.write(response.content)\n",
    "        \n"
   ]
  },
  {
   "cell_type": "code",
   "execution_count": 64,
   "metadata": {},
   "outputs": [
    {
     "name": "stdout",
     "output_type": "stream",
     "text": [
      " El volumen de la unidad C no tiene etiqueta.\n",
      " El nÃºmero de serie del volumen es: FE91-1F1A\n",
      "\n",
      " Directorio de C:\\Users\\kktim\\MasterDataScience\\CicloDeVida\n",
      "\n",
      "2024/11/29  19:56    <DIR>          .\n",
      "2024/11/29  19:56    <DIR>          ..\n",
      "2024/11/27  13:51    <DIR>          .ipynb_checkpoints\n",
      "2024/11/29  19:56            13,595 amt_prototype.xml\n",
      "2024/11/22  13:29            48,607 DOI20242025.ipynb\n",
      "2024/11/29  19:55            45,196 metadataIntro_20242025.ipynb\n",
      "2024/11/27  13:38            82,519 OAI-PMH-APIs2425.ipynb\n",
      "               4 archivos        189,917 bytes\n",
      "               3 dirs  17,007,955,968 bytes libres\n"
     ]
    }
   ],
   "source": [
    "ls"
   ]
  },
  {
   "cell_type": "markdown",
   "metadata": {},
   "source": [
    "En estándares más complejos, el xml de base puede tener una jerarquía anidada, como es el caso de EML. Entonces, cada elemento puede tener de 0 a N \"hijos\", formando nuevos árboles."
   ]
  },
  {
   "cell_type": "code",
   "execution_count": 91,
   "metadata": {},
   "outputs": [
    {
     "name": "stdout",
     "output_type": "stream",
     "text": [
      "alternateIdentifier \n",
      "10.5281/zenodo.841183\n",
      "\n",
      "title water reservoir of Cuerda del Pozo\n",
      "organizationName IFCA\n",
      "electronicMailAddress marco@ifca.unican.es\n",
      "salutation Mr\n",
      "givenName Jesus Marco\n",
      "surName De Lucas\n",
      "deliveryPoint Avda Castros s/n\n",
      "city Santander\n",
      "postalCode 39005\n",
      "country Spain\n",
      "organizationName IFCA\n",
      "electronicMailAddress aguilarf@ifca.unican.es\n",
      "role guardian\n",
      "givenName Fernando\n",
      "surName Aguilar\n",
      "deliveryPoint Avda Castros s/n\n",
      "city Santander\n",
      "postalCode 39005\n",
      "country Spain\n",
      "para The CTD 60 is a precision probe for oceanographic and limnological measurements of physical, chemical and optical parameters up to a depth of 2000 m. It allows the simultaneous measurement of following parameters: Pressure (depth), temperature, conductivity, raw O2, REDOX, dissolved oxygen, pH, Oxigen Saturation, Salinity.\n",
      "keyword measure\n",
      "keyword water reservoir\n",
      "keyword sensor\n",
      "keyword physical and chemical parameters\n",
      "geographicDescription water reservoir\n",
      "westBoundingCoordinate -3.75\n",
      "eastBoundingCoordinate -2.375\n",
      "northBoundingCoordinate 42.0\n",
      "southBoundingCoordinate 40.875\n",
      "calendarDate 2010\n",
      "calendarDate 2010\n",
      "organizationName IFCA\n",
      "electronicMailAddress garciad@ifca.unican.es\n",
      "givenName Daniel\n",
      "surName Garcia\n",
      "deliveryPoint Avda Castros S/N\n",
      "city Santander\n",
      "postalCode 39005\n",
      "country Spain\n",
      "instrumentation CTD60M-Probe. It allows the simultaneous measurement of following parameters: Pressure (depth), temperature, conductivity, raw O2, REDOX, dissolved oxygen, pH, Oxigen Saturation, Salinity.\n",
      "title stationary measures\n",
      "para measures taken at a stationary depth of about 4 meters with a CTD 60. Measurements of physical, chemical and optical parameter.\n",
      "entityName AMT\n",
      "entityDescription Measurement of following parameters: Pressure (depth), temperature, conductivity, raw O2, REDOX, dissolved oxygen, pH, Oxigen Saturation, Salinity.\n",
      "objectName amt.csv\n",
      "size 4275737\n",
      "authentication f38ded28383d9f69af7cb9c98aed798b\n",
      "encodingMethod ASCII text\n",
      "characterEncoding us-ascii\n",
      "numHeaderLines 1\n",
      "numFooterLines 0\n",
      "attributeOrientation column\n",
      "recordDelimiter \\n\n",
      "physicalLineDelimiter \\n\n",
      "fieldDelimiter ;\n",
      "quoteCharacter \"\n",
      "url http://doriiie02.ifca.es/datasets/amt.csv\n",
      "title ROEM +\n",
      "personnel Agustin Monteoliva\n",
      "abstract Life + Project... eutrophication\n",
      "funding EC\n",
      "descriptor Ecology\n",
      "attributeName date\n",
      "attributeLabel date\n",
      "attributeDefinition date of measure\n",
      "storageType string\n",
      "formatString YYYY-MM-DD , hh:mm\n",
      "dateTimePrecision 1\n",
      "minimum 2010-01-01 , 00:00\n",
      "maximum 2016-12-31 , 23:59\n",
      "attributeName Temperature\n",
      "attributeLabel Temp\n",
      "attributeDefinition Temperature\n",
      "storageType double\n",
      "precision 0.01\n",
      "standardUnit celsius\n",
      "numberType real\n",
      "minimum -2.0\n",
      "maximum 32.0\n",
      "para This parameter is filtered from raw when value is less than -1.0 or higher than 35.0\n",
      "references 1827473819284\n",
      "para Temperature calibration\n",
      "description Calibration step for temperature\n",
      "attributeName Press\n",
      "attributeLabel Press\n",
      "attributeDefinition Press (Depth)\n",
      "storageType double\n",
      "precision 0.1\n",
      "customUnit dbar\n",
      "numberType real\n",
      "minimum 0\n",
      "maximum 50\n",
      "para Parameter is filtered when Press * 1.02 less than 0.0 or Press * 1.02 is higher than  30.0\n",
      "references 1827473819284\n",
      "attributeName Conductivity\n",
      "attributeLabel Cond\n",
      "attributeDefinition Conductivity of an electrolyte solution is a measure of its ability to conduct electricity. The SI unit of conductivity is siemens per meter (S/m).\n",
      "storageType double\n",
      "precision 0.005\n",
      "customUnit mS/cm\n",
      "numberType real\n",
      "minimum 0\n",
      "maximum 6\n",
      "para Parameter is filtered when is less than 0.0001 or higher than 0.3\n",
      "references 1827473819284\n",
      "attributeName Salinity\n",
      "attributeLabel Salinity\n",
      "attributeDefinition Salinity of water cannot be measured directly by one single sensor, it is calculated from the individual sensors for pressure, temperature and conductivity\n",
      "storageType Double\n",
      "precision 0.0001\n",
      "customUnit psu\n",
      "numberType real\n",
      "minimum 0\n",
      "maximum 0.1\n",
      "references 1827473819284\n",
      "attributeName Dissolved oxygen\n",
      "attributeLabel DO\n",
      "attributeDefinition Dissolved oxygen refers to the level of free\n",
      "storageType double\n",
      "precision 0.1\n",
      "standardUnit milligramsPerLiter\n",
      "numberType real\n",
      "minimum 0\n",
      "maximum 20\n",
      "para Parameter is filtered when is less than 0 and higher than 30\n",
      "references 1827473819284\n",
      "attributeName rawO2\n",
      "attributeLabel rawO2\n",
      "attributeDefinition dissolved oxygen\n",
      "storageType double\n",
      "precision 10\n",
      "standardUnit dimensionless\n",
      "numberType real\n",
      "minimum 0\n",
      "maximum 5000\n",
      "references 1827473819284\n",
      "attributeName Oxygen Saturation\n",
      "attributeLabel OxySat\n",
      "attributeDefinition relative measure of the amount of oxygen that is dissolved or carried in a given medium. %\n",
      "storageType double\n",
      "precision 1\n",
      "standardUnit dimensionless\n",
      "numberType real\n",
      "minimum 0\n",
      "maximum 120\n",
      "para Parameter is filtered when is less than 0  or higher than 200\n",
      "references 1827473819284\n",
      "attributeName ph\n",
      "attributeLabel ph\n",
      "attributeDefinition numeric scale used to specify the acidity or basicity\n",
      "storageType double\n",
      "precision 0.1\n",
      "standardUnit dimensionless\n",
      "numberType real\n",
      "minimum 4\n",
      "maximum 10\n",
      "para Parameter is filtered when is less tha 5 or higher than10\n",
      "references 1827473819284\n",
      "attributeName Redox\n",
      "attributeLabel redox\n",
      "attributeDefinition Redox\n",
      "storageType double\n",
      "precision 10\n",
      "standardUnit dimensionless\n",
      "numberType real\n",
      "minimum 0\n",
      "maximum 5000\n",
      "references 1827473819284\n",
      "title Peaks Detector\n",
      "license GPL\n",
      "version 1.0\n",
      "para Detects and filter peaks from parameters defined in a CSV file \n",
      "references 1465302104227\n",
      "programmingLanguage Python 2.7.3\n",
      "mediumName doriiie02 Server HDD\n",
      "description decibar, Units derived from the bar.\n",
      "description Conductivity of an electrolyte solution is a measure of its ability to conduct electricity. The SI unit of conductivity is siemens per meter (S/m).\n",
      "description practical salinity unit\n"
     ]
    }
   ],
   "source": [
    "tree = ET.parse('amt_prototype.xml')\n",
    "root = tree.getroot()\n",
    "\n",
    "for table in root.iter():\n",
    "    for child in table:\n",
    "        if len(child)==0:\n",
    "            print(child.tag, child.text)"
   ]
  },
  {
   "cell_type": "markdown",
   "metadata": {},
   "source": [
    "Explora un poco: Nombre del proyecto, autores, lista de atributos..."
   ]
  },
  {
   "cell_type": "code",
   "execution_count": 82,
   "metadata": {
    "scrolled": true
   },
   "outputs": [
    {
     "name": "stdout",
     "output_type": "stream",
     "text": [
      "attributeName: date\n"
     ]
    }
   ],
   "source": [
    "#elementos = tree.findall('/dataset[1]/creator/individualName/salutation')\n",
    "elementos = tree.findall('.//attributeList/attribute[@id=\"1465311292527\"]/attributeName')\n",
    "for e in elementos:\n",
    "    print(e.tag + \":\", e.text)"
   ]
  },
  {
   "cell_type": "code",
   "execution_count": null,
   "metadata": {},
   "outputs": [],
   "source": [
    "elementos = tree.findall('.//dataset')\n",
    "for e in elementos:\n",
    "    print(e.tag + \":\", e.text)\n",
    "    for i in e.iter():\n",
    "        print(i.tag + \":\", i.text)"
   ]
  },
  {
   "cell_type": "code",
   "execution_count": 84,
   "metadata": {},
   "outputs": [
    {
     "name": "stdout",
     "output_type": "stream",
     "text": [
      "{http://purl.org/dc/elements/1.1/}identifier 12345\n"
     ]
    }
   ],
   "source": [
    "dataset = ET.SubElement(root,'dataset')\n",
    "for table in dataset.iter():\n",
    "    print(child.tag, child.text)"
   ]
  },
  {
   "cell_type": "markdown",
   "metadata": {},
   "source": [
    "# Ejercicio personal"
   ]
  },
  {
   "cell_type": "markdown",
   "metadata": {},
   "source": [
    "## Ejercicio 1"
   ]
  },
  {
   "cell_type": "markdown",
   "metadata": {},
   "source": [
    "A partir del ejemplo completo del esquema de metadatos de DataCite, muestra por pantalla los elementos que sean equivalentes a los propuestos por Dublin Core (cada uno en una línea). Es posible que tengas que combinar en uno varios campos del archivo de metadatos (Por ejemplo, en coverage las coordenadas + el nombre).\n",
    "\n",
    "* Title: \n",
    "* Creator: \n",
    "* Subject:  \n",
    "* Description: \n",
    "* Publisher: \n",
    "* Contributor:\n",
    "* Date: \n",
    "* Type: \n",
    "* Format: \n",
    "* Identifier: \n",
    "* Source: \n",
    "* Language:\n",
    "* Relation:\n",
    "* Coverage:  \n",
    "* Rights:\n",
    "\n",
    "Recurso: https://schema.datacite.org/meta/kernel-4.5/example/datacite-example-full-v4.xml"
   ]
  },
  {
   "cell_type": "code",
   "execution_count": 78,
   "metadata": {},
   "outputs": [],
   "source": [
    "\n",
    "\n",
    "dc_xml3 = '''<?xml version=\"1.0\" encoding=\"UTF-8\" standalone=\"no\"?><?xml-stylesheet type=\"text/xsl\" href=\"/webservices/catalog/xsl/searchRetrieveResponse.xsl\"?>\n",
    "<searchRetrieveResponse xmlns:oclcterms=\"http://purl.org/oclc/terms/\" xmlns:dc=\"http://purl.org/dc/elements/1.1/\" xmlns:diag=\"http://www.loc.gov/zing/srw/diagnostic/\" xmlns:xsi=\"http://www.w3.org/2001/XMLSchema-instance\">\n",
    "\n",
    "  <dc:contributor contributorType=\"ContactPerson\">ExampleFamilyName, ExampleGivenName </dc:contributor>\n",
    "  <dc:coverage>Vancouver, British Columbia, Canada, latitud:49.2827,longitude:-123.1207</dc:coverage>\n",
    "  <dc:creator nameType=\"Personal\">ExampleFamilyName, ExampleGivenName</dc:creator>\n",
    "  <dc:creator nameType=\"Organizational\">ExampleOrganization</dc:creator>\n",
    "  <dc:date dateType=\"Created\">2023-01-01</dc:date>\n",
    "   <dc:description descriptionType=\"Abstract\">Example Abstract</dc:description>\n",
    "    <dc:description descriptionType=\"Methods\">Example Methods</dc:description>\n",
    "    <dc:description descriptionType=\"SeriesInformation\">Example SeriesInformation</dc:description>\n",
    "    <dc:description descriptionType=\"TableOfContents\">Example TableOfContents</dc:description>\n",
    "    <dc:description descriptionType=\"TechnicalInfo\">Example TechnicalInfo</dc:description>\n",
    "    <dc:description descriptionType=\"Other\">Example Other</dc:description>\n",
    "  <dc:format>text/plain</dc:format>\n",
    "  <dc:format>application/xml</dc:format>\n",
    "  <dc:identifier identifierType=\"DOI\">10.82433/B09Z-4K37</dc:identifier>\n",
    "  <dc:identifier identifierType=\"Local accession number\">12345</dc:identifier>\n",
    "  <dc:language>en</dc:language>\n",
    "  <dc:publisher  publisherIdentifier=\"https://ror.org/04z8jg394\" publisherIdentifierScheme=\"ROR\" schemeURI=\"https://ror.org/\">Example Publisher</dc:publisher>\n",
    "  <dc:relation relatedItemIdentifierType=\"ISSN\">1234-5678</dc:relation>\n",
    "  <dc:rights schemeURI=\"https://spdx.org/licenses/\" rightsIdentifierScheme=\"SPDX\" rightsIdentifier=\"CC-BY-4.0\" rightsURI=\"https://creativecommons.org/licenses/by/4.0/\">Creative Commons Attribution 4.0 International</dc:rights>\n",
    "  <dc:source></dc:source>\n",
    "  <dc:title>Example Title</dc:title>\n",
    "  <dc:type resourceTypeGeneral=\"Dataset\">Example ResourceType</dc:type>\n",
    "\n",
    "</searchRetrieveResponse>'''\n",
    "\n",
    "tree3 = ET.fromstring(dc_xml3)\n"
   ]
  },
  {
   "cell_type": "code",
   "execution_count": 79,
   "metadata": {},
   "outputs": [
    {
     "name": "stdout",
     "output_type": "stream",
     "text": [
      "{http://purl.org/dc/elements/1.1/}contributor ExampleFamilyName, ExampleGivenName \n",
      "{http://purl.org/dc/elements/1.1/}coverage Vancouver, British Columbia, Canada, latitud:49.2827,longitude:-123.1207\n",
      "{http://purl.org/dc/elements/1.1/}creator ExampleFamilyName, ExampleGivenName\n",
      "{http://purl.org/dc/elements/1.1/}creator ExampleOrganization\n",
      "{http://purl.org/dc/elements/1.1/}date 2023-01-01\n",
      "{http://purl.org/dc/elements/1.1/}description Example Abstract\n",
      "{http://purl.org/dc/elements/1.1/}description Example Methods\n",
      "{http://purl.org/dc/elements/1.1/}description Example SeriesInformation\n",
      "{http://purl.org/dc/elements/1.1/}description Example TableOfContents\n",
      "{http://purl.org/dc/elements/1.1/}description Example TechnicalInfo\n",
      "{http://purl.org/dc/elements/1.1/}description Example Other\n",
      "{http://purl.org/dc/elements/1.1/}format text/plain\n",
      "{http://purl.org/dc/elements/1.1/}format application/xml\n",
      "{http://purl.org/dc/elements/1.1/}identifier 10.82433/B09Z-4K37\n",
      "{http://purl.org/dc/elements/1.1/}identifier 12345\n",
      "{http://purl.org/dc/elements/1.1/}language en\n",
      "{http://purl.org/dc/elements/1.1/}publisher Example Publisher\n",
      "{http://purl.org/dc/elements/1.1/}relation 1234-5678\n",
      "{http://purl.org/dc/elements/1.1/}rights Creative Commons Attribution 4.0 International\n",
      "{http://purl.org/dc/elements/1.1/}source None\n",
      "{http://purl.org/dc/elements/1.1/}title Example Title\n",
      "{http://purl.org/dc/elements/1.1/}type Example ResourceType\n"
     ]
    }
   ],
   "source": [
    "for table in tree3.iter('searchRetrieveResponse'):\n",
    "    for child in table:\n",
    "        print(child.tag,child.text)"
   ]
  },
  {
   "cell_type": "markdown",
   "metadata": {},
   "source": [
    "## Ejercicio 2"
   ]
  },
  {
   "cell_type": "markdown",
   "metadata": {},
   "source": [
    "Haz un listado de todas las etiquetas del documento XML con sus atributos (si lo tienen)"
   ]
  },
  {
   "cell_type": "code",
   "execution_count": 80,
   "metadata": {},
   "outputs": [
    {
     "name": "stdout",
     "output_type": "stream",
     "text": [
      "{http://purl.org/dc/elements/1.1/}contributor Atributos: \n",
      "{'contributorType': 'ContactPerson'}\n",
      "{http://purl.org/dc/elements/1.1/}coverage Atributos: \n",
      "No tiene atributos\n",
      "{http://purl.org/dc/elements/1.1/}creator Atributos: \n",
      "{'nameType': 'Personal'}\n",
      "{http://purl.org/dc/elements/1.1/}creator Atributos: \n",
      "{'nameType': 'Organizational'}\n",
      "{http://purl.org/dc/elements/1.1/}date Atributos: \n",
      "{'dateType': 'Created'}\n",
      "{http://purl.org/dc/elements/1.1/}description Atributos: \n",
      "{'descriptionType': 'Abstract'}\n",
      "{http://purl.org/dc/elements/1.1/}description Atributos: \n",
      "{'descriptionType': 'Methods'}\n",
      "{http://purl.org/dc/elements/1.1/}description Atributos: \n",
      "{'descriptionType': 'SeriesInformation'}\n",
      "{http://purl.org/dc/elements/1.1/}description Atributos: \n",
      "{'descriptionType': 'TableOfContents'}\n",
      "{http://purl.org/dc/elements/1.1/}description Atributos: \n",
      "{'descriptionType': 'TechnicalInfo'}\n",
      "{http://purl.org/dc/elements/1.1/}description Atributos: \n",
      "{'descriptionType': 'Other'}\n",
      "{http://purl.org/dc/elements/1.1/}format Atributos: \n",
      "No tiene atributos\n",
      "{http://purl.org/dc/elements/1.1/}format Atributos: \n",
      "No tiene atributos\n",
      "{http://purl.org/dc/elements/1.1/}identifier Atributos: \n",
      "{'identifierType': 'DOI'}\n",
      "{http://purl.org/dc/elements/1.1/}identifier Atributos: \n",
      "{'identifierType': 'Local accession number'}\n",
      "{http://purl.org/dc/elements/1.1/}language Atributos: \n",
      "No tiene atributos\n",
      "{http://purl.org/dc/elements/1.1/}publisher Atributos: \n",
      "{'publisherIdentifier': 'https://ror.org/04z8jg394', 'publisherIdentifierScheme': 'ROR', 'schemeURI': 'https://ror.org/'}\n",
      "{http://purl.org/dc/elements/1.1/}relation Atributos: \n",
      "{'relatedItemIdentifierType': 'ISSN'}\n",
      "{http://purl.org/dc/elements/1.1/}rights Atributos: \n",
      "{'schemeURI': 'https://spdx.org/licenses/', 'rightsIdentifierScheme': 'SPDX', 'rightsIdentifier': 'CC-BY-4.0', 'rightsURI': 'https://creativecommons.org/licenses/by/4.0/'}\n",
      "{http://purl.org/dc/elements/1.1/}source Atributos: \n",
      "No tiene atributos\n",
      "{http://purl.org/dc/elements/1.1/}title Atributos: \n",
      "No tiene atributos\n",
      "{http://purl.org/dc/elements/1.1/}type Atributos: \n",
      "{'resourceTypeGeneral': 'Dataset'}\n"
     ]
    }
   ],
   "source": [
    "for table in tree3.iter('searchRetrieveResponse'):\n",
    "   for child in table:\n",
    "       print(child.tag + \" \" + \"Atributos: \")\n",
    "       if child.attrib:\n",
    "           print(child.attrib)\n",
    "       else:\n",
    "           print(\"No tiene atributos\")\n",
    "           \n",
    "       "
   ]
  },
  {
   "cell_type": "markdown",
   "metadata": {},
   "source": [
    "## Ejercicio 3"
   ]
  },
  {
   "cell_type": "markdown",
   "metadata": {},
   "source": [
    "Muestra los distintos identificadores que tiene ese documento de este modo: Identificador [tipo] = [identificador]\n",
    "\n",
    "Ejemplo: Identificador DOI = 10.3122/121321"
   ]
  },
  {
   "cell_type": "code",
   "execution_count": 81,
   "metadata": {},
   "outputs": [
    {
     "name": "stdout",
     "output_type": "stream",
     "text": [
      "identificador DOI = 10.82433/B09Z-4K37\n",
      "identificador Local accession number = 12345\n"
     ]
    }
   ],
   "source": [
    "identifier = tree3.findall('dc:identifier',namespaces)\n",
    "for child in identifier:\n",
    "    print(f\"identificador {child.attrib['identifierType']} = {child.text}\")"
   ]
  },
  {
   "cell_type": "markdown",
   "metadata": {},
   "source": [
    "## Ejercicio 4"
   ]
  },
  {
   "cell_type": "markdown",
   "metadata": {},
   "source": [
    "Modifica el documento XML \"amt_prototype.xml\" para que todos los atributos incluyan su unidad (completa si es necesario).\n",
    "\n",
    "Una vez editado, muestra la lista de atributos con su unidad. \n",
    "\n",
    "Ejemplo:\n",
    "\n",
    "\"Atribute: Salinity | Unit: psu\""
   ]
  },
  {
   "cell_type": "code",
   "execution_count": 121,
   "metadata": {},
   "outputs": [
    {
     "name": "stdout",
     "output_type": "stream",
     "text": [
      "date\n",
      "Temperature\n",
      "Press\n",
      "Conductivity\n",
      "Salinity\n",
      "Dissolved oxygen\n",
      "rawO2\n",
      "Oxygen Saturation\n",
      "ph\n",
      "Redox\n",
      "------------------------------------------\n",
      "dbar\n",
      "mS/cm\n",
      "psu\n",
      "celsius\n",
      "milligramsPerLiter\n",
      "dimensionless\n",
      "dimensionless\n",
      "dimensionless\n",
      "dimensionless\n",
      "----------------------------------------\n",
      "Atribute: date| Unit:YYYY-MM-DD , hh:mm\n",
      "Atribute: Temperature| Unit:celsius\n",
      "Atribute: Press| Unit:dbar\n",
      "Atribute: Conductivity| Unit:mS/cm\n",
      "Atribute: Salinity| Unit:psu\n",
      "Atribute: Dissolved oxygen| Unit:milligramsPerLiter\n",
      "Atribute: rawO2| Unit:dimensionless\n",
      "Atribute: Oxygen Saturation| Unit:dimensionless\n",
      "Atribute: ph| Unit:dimensionless\n",
      "Atribute: Redox| Unit:dimensionless\n"
     ]
    }
   ],
   "source": [
    "tree = ET.parse('amt_prototype.xml')\n",
    "# Para ver el nombre de los atributos:\n",
    "elementos = tree.findall('.//attributeList/attribute/attributeName')\n",
    "for child in elementos:\n",
    "    print(child.text)\n",
    "print(\"------------------------------------------\")\n",
    "# Para ver la unidad:\n",
    "unit1 = tree.findall('.//customUnit')\n",
    "unit2 = tree.findall('.//standardUnit')\n",
    "for child in unidad1:\n",
    "    print(child.text)\n",
    "for child in unidad2:\n",
    "    print(child.text)\n",
    "print(\"----------------------------------------\")\n",
    "# Creamos una lista de unidades:\n",
    "unidad = [\"YYYY-MM-DD , hh:mm\",\"celsius\",\"dbar\",\"mS/cm\",\"psu\",\"milligramsPerLiter\",\"dimensionless\",\"dimensionless\",\"dimensionless\",\"dimensionless\"]\n",
    "\n",
    "# Modificar el archivo:\n",
    "i = 0\n",
    "for child in elementos:\n",
    "    child.text = (child.text + \"| Unit:\" + unidad[i])\n",
    "    i = i+1\n",
    "\n",
    "# Volver a mostrar\n",
    "for child in elementos:\n",
    "    print(\"Atribute: \" + child.text)"
   ]
  }
 ],
 "metadata": {
  "kernelspec": {
   "display_name": "Python 3 (ipykernel)",
   "language": "python",
   "name": "python3"
  },
  "language_info": {
   "codemirror_mode": {
    "name": "ipython",
    "version": 3
   },
   "file_extension": ".py",
   "mimetype": "text/x-python",
   "name": "python",
   "nbconvert_exporter": "python",
   "pygments_lexer": "ipython3",
   "version": "3.12.7"
  }
 },
 "nbformat": 4,
 "nbformat_minor": 4
}
